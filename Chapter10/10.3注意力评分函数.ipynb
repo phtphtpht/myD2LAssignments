{
 "cells": [
  {
   "cell_type": "code",
   "execution_count": 1,
   "metadata": {},
   "outputs": [],
   "source": [
    "import math\n",
    "import torch\n",
    "from torch import nn\n",
    "from d2l import torch as d2l"
   ]
  },
  {
   "cell_type": "code",
   "execution_count": 2,
   "metadata": {},
   "outputs": [],
   "source": [
    "def masked_softmax(X,valid_lens):\n",
    "    if valid_lens is None:\n",
    "        return nn.functional.softmax(X,dim=-1)\n",
    "    else:\n",
    "        shape=X.shape\n",
    "        if valid_lens.dim()==1:\n",
    "            valid_lens=torch.repeat_interleave(valid_lens,shape[1])\n",
    "        else:\n",
    "            valid_lens=valid_lens.reshape(-1)\n",
    "        X=d2l.sequence_mask(X.reshape(-1,shape[-1]),valid_lens,value=-1e6)\n",
    "        return nn.functional.softmax(X.reshape(shape),dim=-1)"
   ]
  },
  {
   "cell_type": "code",
   "execution_count": 3,
   "metadata": {},
   "outputs": [
    {
     "data": {
      "text/plain": [
       "tensor([[[0.3321, 0.6679, 0.0000, 0.0000],\n",
       "         [0.5055, 0.4945, 0.0000, 0.0000]],\n",
       "\n",
       "        [[0.3033, 0.2700, 0.4267, 0.0000],\n",
       "         [0.4513, 0.2955, 0.2532, 0.0000]]])"
      ]
     },
     "execution_count": 3,
     "metadata": {},
     "output_type": "execute_result"
    }
   ],
   "source": [
    "masked_softmax(torch.rand(2, 2, 4), torch.tensor([2, 3]))"
   ]
  },
  {
   "cell_type": "code",
   "execution_count": 4,
   "metadata": {},
   "outputs": [
    {
     "data": {
      "text/plain": [
       "tensor([[[1.0000, 0.0000, 0.0000, 0.0000],\n",
       "         [0.2970, 0.3425, 0.3605, 0.0000]],\n",
       "\n",
       "        [[0.4271, 0.5729, 0.0000, 0.0000],\n",
       "         [0.1769, 0.2673, 0.2921, 0.2637]]])"
      ]
     },
     "execution_count": 4,
     "metadata": {},
     "output_type": "execute_result"
    }
   ],
   "source": [
    "masked_softmax(torch.rand(2, 2, 4), torch.tensor([[1, 3], [2, 4]]))"
   ]
  },
  {
   "cell_type": "code",
   "execution_count": 5,
   "metadata": {},
   "outputs": [],
   "source": [
    "class AdditiveAttention(nn.Module):\n",
    "    def __init__(self,key_size,query_size,num_hiddens,dropout,**kwargs):\n",
    "        super(AdditiveAttention, self).__init__(**kwargs)\n",
    "        self.W_k = nn.Linear(key_size, num_hiddens, bias=False)\n",
    "        self.W_q = nn.Linear(query_size, num_hiddens, bias=False)\n",
    "        self.w_v = nn.Linear(num_hiddens, 1, bias=False)\n",
    "        self.dropout = nn.Dropout(dropout)\n",
    "    def forward(self,queries,keys,values,valid_lens):\n",
    "        queries,keys=self.W_q(queries),self.W_k(keys)\n",
    "        features=torch.unsqueeze(queries,dim=2)+torch.unsqueeze(keys,dim=1)\n",
    "        features=torch.tanh(features)\n",
    "        scores=self.w_v(features).squeeze(dim=-1)\n",
    "        self.attention_weights=masked_softmax(scores,valid_lens)\n",
    "        return torch.bmm(self.dropout(self.attention_weights),values)"
   ]
  },
  {
   "cell_type": "code",
   "execution_count": 7,
   "metadata": {},
   "outputs": [
    {
     "data": {
      "text/plain": [
       "tensor([[[-0.4614,  0.5076,  0.0334, -0.6187, -1.5714,  0.2323,  1.7643,\n",
       "          -0.1371,  0.4528, -0.2451, -0.6314,  1.2588,  0.0040, -0.1359,\n",
       "           0.4308, -0.2722, -0.7264,  1.1732,  0.4825, -0.7781]],\n",
       "\n",
       "        [[ 0.4376, -0.8590, -0.1773,  0.2728,  0.9183, -1.1395, -0.0990,\n",
       "          -1.1712, -0.3262, -1.7565, -1.2060,  1.7139,  1.1807, -1.8242,\n",
       "           0.2295,  0.1091,  0.7169,  0.3899, -1.0987, -0.0684]]])"
      ]
     },
     "execution_count": 7,
     "metadata": {},
     "output_type": "execute_result"
    }
   ],
   "source": [
    "queries, keys = torch.normal(0, 1, (2, 1, 20)), torch.ones((2, 10, 2))\n",
    "queries"
   ]
  }
 ],
 "metadata": {
  "kernelspec": {
   "display_name": "myTorch",
   "language": "python",
   "name": "python3"
  },
  "language_info": {
   "codemirror_mode": {
    "name": "ipython",
    "version": 3
   },
   "file_extension": ".py",
   "mimetype": "text/x-python",
   "name": "python",
   "nbconvert_exporter": "python",
   "pygments_lexer": "ipython3",
   "version": "3.11.5"
  },
  "orig_nbformat": 4
 },
 "nbformat": 4,
 "nbformat_minor": 2
}
