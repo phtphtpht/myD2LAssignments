{
 "cells": [
  {
   "cell_type": "code",
   "execution_count": 1,
   "metadata": {},
   "outputs": [],
   "source": [
    "%matplotlib inline\n",
    "import torch\n",
    "from torch import nn\n",
    "from d2l import torch as d2l"
   ]
  },
  {
   "cell_type": "code",
   "execution_count": 2,
   "metadata": {},
   "outputs": [],
   "source": [
    "n_train, n_test, num_inputs, batch_size = 20, 100, 200, 5\n",
    "true_w, true_b = torch.ones((num_inputs, 1)) * 0.01, 0.05\n",
    "train_data = d2l.synthetic_data(true_w, true_b, n_train)\n",
    "train_iter = d2l.load_array(train_data, batch_size)\n",
    "test_data = d2l.synthetic_data(true_w, true_b, n_test)\n",
    "test_iter = d2l.load_array(test_data, batch_size, is_train=False)"
   ]
  },
  {
   "cell_type": "code",
   "execution_count": 3,
   "metadata": {},
   "outputs": [
    {
     "data": {
      "text/plain": [
       "'ALIVE'"
      ]
     },
     "execution_count": 3,
     "metadata": {},
     "output_type": "execute_result"
    }
   ],
   "source": [
    "def init_params():\n",
    "    w = torch.normal(0,1,size=(num_inputs,1),requires_grad=True)\n",
    "    b=torch.zeros(1,requires_grad=True)\n",
    "    return [w,b]\n",
    "\n",
    "def l2_penalty(w):\n",
    "    return torch.sum(w.pow(2))/2\n",
    "\n",
    "\"ALIVE\""
   ]
  },
  {
   "cell_type": "code",
   "execution_count": 4,
   "metadata": {},
   "outputs": [],
   "source": [
    "def train(lambd):\n",
    "    w,b=init_params()\n",
    "    net,loss= lambda X: d2l.linreg(X,w,b),d2l.squared_loss\n",
    "    num_epochs,lr=100,0.003\n",
    "    #animator=d2l.Animator(xlabel='epochs',ylabel='loss',yscale='log',xlim=[5,num_epochs],legend=['train','test'])\n",
    "    for epoch in range(num_epochs):\n",
    "        print(\"Iterating Epoch {}\".format(epoch))\n",
    "        for X,y in train_iter:\n",
    "            l=loss(net(X),y)+lambd*l2_penalty(w)\n",
    "            l.sum().backward()\n",
    "            d2l.sgd([w,b],lr,batch_size)\n",
    "        if(epoch+1)%5==0:\n",
    "            train_loss = d2l.evaluate_loss(net, train_iter, loss)\n",
    "            test_loss = d2l.evaluate_loss(net, test_iter, loss)\n",
    "            print(f'Epoch [{epoch + 1}], Train Loss: {train_loss}, Test Loss: {test_loss}')\n",
    "           \n",
    "            #animator.add(epoch+1,(d2l.evaluate_loss(net,train_iter,loss),d2l.evaluate_loss(net,test_iter,loss)))\n",
    "\n",
    "    print(\"Graceful Ending\")"
   ]
  },
  {
   "cell_type": "code",
   "execution_count": 5,
   "metadata": {},
   "outputs": [
    {
     "name": "stdout",
     "output_type": "stream",
     "text": [
      "Iterating Epoch 0\n",
      "Iterating Epoch 1\n",
      "Iterating Epoch 2\n",
      "Iterating Epoch 3\n",
      "Iterating Epoch 4\n",
      "Iterating Epoch 5\n",
      "Iterating Epoch 6\n",
      "Iterating Epoch 7\n",
      "Iterating Epoch 8\n",
      "Iterating Epoch 9\n",
      "Iterating Epoch 10\n",
      "Iterating Epoch 11\n",
      "Iterating Epoch 12\n",
      "Iterating Epoch 13\n",
      "Iterating Epoch 14\n",
      "Iterating Epoch 15\n",
      "Iterating Epoch 16\n",
      "Iterating Epoch 17\n",
      "Iterating Epoch 18\n",
      "Iterating Epoch 19\n",
      "Iterating Epoch 20\n",
      "Iterating Epoch 21\n",
      "Iterating Epoch 22\n",
      "Iterating Epoch 23\n",
      "Iterating Epoch 24\n",
      "Iterating Epoch 25\n",
      "Iterating Epoch 26\n",
      "Iterating Epoch 27\n",
      "Iterating Epoch 28\n",
      "Iterating Epoch 29\n",
      "Iterating Epoch 30\n",
      "Iterating Epoch 31\n",
      "Iterating Epoch 32\n",
      "Iterating Epoch 33\n",
      "Iterating Epoch 34\n",
      "Iterating Epoch 35\n",
      "Iterating Epoch 36\n",
      "Iterating Epoch 37\n",
      "Iterating Epoch 38\n",
      "Iterating Epoch 39\n",
      "Iterating Epoch 40\n",
      "Iterating Epoch 41\n",
      "Iterating Epoch 42\n",
      "Iterating Epoch 43\n",
      "Iterating Epoch 44\n",
      "Iterating Epoch 45\n",
      "Iterating Epoch 46\n",
      "Iterating Epoch 47\n",
      "Iterating Epoch 48\n",
      "Iterating Epoch 49\n",
      "Iterating Epoch 50\n",
      "Iterating Epoch 51\n",
      "Iterating Epoch 52\n",
      "Iterating Epoch 53\n",
      "Iterating Epoch 54\n",
      "Iterating Epoch 55\n",
      "Iterating Epoch 56\n",
      "Iterating Epoch 57\n",
      "Iterating Epoch 58\n",
      "Iterating Epoch 59\n",
      "Iterating Epoch 60\n",
      "Iterating Epoch 61\n",
      "Iterating Epoch 62\n",
      "Iterating Epoch 63\n",
      "Iterating Epoch 64\n",
      "Iterating Epoch 65\n",
      "Iterating Epoch 66\n",
      "Iterating Epoch 67\n",
      "Iterating Epoch 68\n",
      "Iterating Epoch 69\n",
      "Iterating Epoch 70\n",
      "Iterating Epoch 71\n",
      "Iterating Epoch 72\n",
      "Iterating Epoch 73\n",
      "Iterating Epoch 74\n",
      "Iterating Epoch 75\n",
      "Iterating Epoch 76\n",
      "Iterating Epoch 77\n",
      "Iterating Epoch 78\n",
      "Iterating Epoch 79\n",
      "Iterating Epoch 80\n",
      "Iterating Epoch 81\n",
      "Iterating Epoch 82\n",
      "Iterating Epoch 83\n",
      "Iterating Epoch 84\n",
      "Iterating Epoch 85\n",
      "Iterating Epoch 86\n",
      "Iterating Epoch 87\n",
      "Iterating Epoch 88\n",
      "Iterating Epoch 89\n",
      "Iterating Epoch 90\n",
      "Iterating Epoch 91\n",
      "Iterating Epoch 92\n",
      "Iterating Epoch 93\n",
      "Iterating Epoch 94\n",
      "Iterating Epoch 95\n",
      "Iterating Epoch 96\n",
      "Iterating Epoch 97\n",
      "Iterating Epoch 98\n",
      "Iterating Epoch 99\n",
      "Graceful Ending\n"
     ]
    }
   ],
   "source": [
    "train(lambd=3)"
   ]
  },
  {
   "cell_type": "code",
   "execution_count": null,
   "metadata": {},
   "outputs": [],
   "source": []
  }
 ],
 "metadata": {
  "kernelspec": {
   "display_name": "Python 3 (ipykernel)",
   "language": "python",
   "name": "python3"
  },
  "language_info": {
   "codemirror_mode": {
    "name": "ipython",
    "version": 3
   },
   "file_extension": ".py",
   "mimetype": "text/x-python",
   "name": "python",
   "nbconvert_exporter": "python",
   "pygments_lexer": "ipython3",
   "version": "3.11.4"
  }
 },
 "nbformat": 4,
 "nbformat_minor": 4
}
